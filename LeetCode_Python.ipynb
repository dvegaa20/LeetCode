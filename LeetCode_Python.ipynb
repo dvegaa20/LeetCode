{
  "nbformat": 4,
  "nbformat_minor": 0,
  "metadata": {
    "colab": {
      "provenance": [],
      "authorship_tag": "ABX9TyNbLnQ+2G/YKv9KEGIDmold",
      "include_colab_link": true
    },
    "kernelspec": {
      "name": "python3",
      "display_name": "Python 3"
    },
    "language_info": {
      "name": "python"
    }
  },
  "cells": [
    {
      "cell_type": "markdown",
      "metadata": {
        "id": "view-in-github",
        "colab_type": "text"
      },
      "source": [
        "<a href=\"https://colab.research.google.com/github/dvegaa20/LeetCode/blob/main/LeetCode_Python.ipynb\" target=\"_parent\"><img src=\"https://colab.research.google.com/assets/colab-badge.svg\" alt=\"Open In Colab\"/></a>"
      ]
    },
    {
      "cell_type": "markdown",
      "source": [
        "# Easy LeetCode Problems\n",
        "\n",
        "\n",
        "---\n",
        "\n"
      ],
      "metadata": {
        "id": "K4iRpRgfcJTX"
      }
    },
    {
      "cell_type": "markdown",
      "source": [
        "## 1. Two Sum\n",
        "\n",
        "*Array, Hash Table*\n",
        "\n",
        "\n",
        "```\n",
        "  # BRUTE FORCE SOLUTION\n",
        "  sumTuple = []\n",
        "  for i in range(len(nums)):\n",
        "    for j in range(len(nums)):\n",
        "      if nums[i] + nums[j] == target and i != j:\n",
        "        sumTuple.append(i)\n",
        "  return sumTuple\n",
        "```\n",
        "\n"
      ],
      "metadata": {
        "id": "88MyFohOXOpI"
      }
    },
    {
      "cell_type": "code",
      "execution_count": null,
      "metadata": {
        "colab": {
          "base_uri": "https://localhost:8080/"
        },
        "id": "U70gVrLTXMzM",
        "outputId": "8a79d53a-820e-4186-bc00-f6600d0a06e2"
      },
      "outputs": [
        {
          "output_type": "stream",
          "name": "stdout",
          "text": [
            "(1, 2)\n"
          ]
        }
      ],
      "source": [
        "def twoSum(nums, target):\n",
        "  # HASH MAP SOLUTION\n",
        "  prev_map = {}\n",
        "  for i, n in enumerate(nums):\n",
        "    diff = target - n\n",
        "    if diff in prev_map:\n",
        "      return prev_map[diff], i\n",
        "    prev_map[n] = i\n",
        "\n",
        "print(twoSum([3,2,4], 6))"
      ]
    },
    {
      "cell_type": "markdown",
      "source": [
        "## 9. Palindrome Number\n",
        "*Math*"
      ],
      "metadata": {
        "id": "ry6tW2BiyLjZ"
      }
    },
    {
      "cell_type": "code",
      "source": [
        "def isPalindrome(x):\n",
        "  \"\"\"\n",
        "  :type x: int\n",
        "  :rtype: bool\n",
        "  \"\"\"\n",
        "  isPalindrome = []\n",
        "  num = str(x)\n",
        "  for i in num[::-1]:\n",
        "    isPalindrome.append(i)\n",
        "\n",
        "  newNum = ''.join(isPalindrome)\n",
        "\n",
        "  if newNum == num:\n",
        "    return True\n",
        "  else:\n",
        "    return False\n",
        "\n",
        "print(isPalindrome(-121))"
      ],
      "metadata": {
        "colab": {
          "base_uri": "https://localhost:8080/"
        },
        "id": "0kvliPUayBzN",
        "outputId": "8a757d8c-0dd7-4dcd-ecd9-9e681612db6e"
      },
      "execution_count": null,
      "outputs": [
        {
          "output_type": "stream",
          "name": "stdout",
          "text": [
            "False\n"
          ]
        }
      ]
    },
    {
      "cell_type": "markdown",
      "source": [
        "## 13. Roman To Integer TO BE COMPLETED\n",
        "*Hash Table, Math, String*"
      ],
      "metadata": {
        "id": "JMfSGOGpOLvh"
      }
    },
    {
      "cell_type": "code",
      "source": [
        "def romanToInt(s):\n",
        "  \"\"\"\n",
        "  :type s: str\n",
        "  :rtype: int\n",
        "  \"\"\"\n",
        "  dicc = {\n",
        "      'I': 1,\n",
        "      'V': 5,\n",
        "      'X': 10,\n",
        "      'L': 50,\n",
        "      'C': 100,\n",
        "      'D': 500,\n",
        "      'M': 1000\n",
        "  }\n",
        "\n",
        "romanToInt(\"MCMXCIV\")"
      ],
      "metadata": {
        "colab": {
          "base_uri": "https://localhost:8080/"
        },
        "id": "40e5lla2OPRJ",
        "outputId": "9d34393b-5225-49ea-b9e8-dd125cd74dd9"
      },
      "execution_count": null,
      "outputs": [
        {
          "output_type": "stream",
          "name": "stdout",
          "text": [
            "M\n",
            "C\n",
            "M\n",
            "X\n",
            "C\n",
            "I\n",
            "V\n"
          ]
        }
      ]
    },
    {
      "cell_type": "markdown",
      "source": [
        "## 14. Longest Common Prefix\n",
        "*String, Trie*"
      ],
      "metadata": {
        "id": "07M5_zjZbCoA"
      }
    },
    {
      "cell_type": "code",
      "source": [
        "def longestCommonPrefix(strs):\n",
        "  result = strs[0]\n",
        "  longest_prefix = ''\n",
        "\n",
        "  for i in range(0, len(strs)):\n",
        "    current_str = strs[i]\n",
        "    while not current_str.startswith(result):\n",
        "      result = result[:-1]\n",
        "      if result == '':\n",
        "        break\n",
        "\n",
        "  return result\n",
        "\n",
        "\n",
        "longestCommonPrefix([\"flower\",\"flow\",\"flight\"])"
      ],
      "metadata": {
        "colab": {
          "base_uri": "https://localhost:8080/",
          "height": 35
        },
        "id": "Cn-kn2FfbNNQ",
        "outputId": "6967a377-4ebf-4446-d02d-f03e4304ab50"
      },
      "execution_count": null,
      "outputs": [
        {
          "output_type": "execute_result",
          "data": {
            "text/plain": [
              "'fl'"
            ],
            "application/vnd.google.colaboratory.intrinsic+json": {
              "type": "string"
            }
          },
          "metadata": {},
          "execution_count": 148
        }
      ]
    },
    {
      "cell_type": "markdown",
      "source": [
        "## 20. Valid Parentheses\n",
        "*String, Stack*"
      ],
      "metadata": {
        "id": "6ZzsmNJFvKR4"
      }
    },
    {
      "cell_type": "code",
      "source": [
        "def isValid(s):\n",
        "  stack = []\n",
        "\n",
        "  for i in s:\n",
        "    if i in '([{':\n",
        "      stack.append(i)\n",
        "\n",
        "    else:\n",
        "      if len(stack) == 0:\n",
        "        return False\n",
        "\n",
        "      last = stack.pop()\n",
        "      check = last + i\n",
        "\n",
        "      if check not in ['()', '[]', '{}']:\n",
        "        return False\n",
        "\n",
        "  if len(stack) == 0:\n",
        "    return True\n",
        "  else:\n",
        "    return False\n",
        "\n",
        "isValid(\"(){}}{\")"
      ],
      "metadata": {
        "colab": {
          "base_uri": "https://localhost:8080/"
        },
        "id": "KSoeWgLtvMSd",
        "outputId": "28cc5faa-48fb-4563-b9e5-234ba3562c19"
      },
      "execution_count": null,
      "outputs": [
        {
          "output_type": "execute_result",
          "data": {
            "text/plain": [
              "False"
            ]
          },
          "metadata": {},
          "execution_count": 82
        }
      ]
    },
    {
      "cell_type": "markdown",
      "source": [
        "## 21. Merge Two Sorted Lists TO UNDESTAND.\n",
        "*Linked List, Recursion*"
      ],
      "metadata": {
        "id": "OXCpIi_qvhmE"
      }
    },
    {
      "cell_type": "code",
      "source": [
        "# Definition for singly-linked list.\n",
        "class ListNode:\n",
        "    def __init__(self, val=0, next=None):\n",
        "        self.val = val\n",
        "        self.next = next\n",
        "\n",
        "def mergeTwoLists(list1, list2):\n",
        "  dummy = ListNode()\n",
        "  tail = dummy\n",
        "\n",
        "  while list1 and list2:\n",
        "    if list1.val < list2.val:\n",
        "      tail.next = list1\n",
        "    else:\n",
        "      tail.next = list2\n",
        "      l2 = l2.next\n",
        "    tail = tail.next\n",
        "  if list1:\n",
        "    tail.next = list1\n",
        "  elif list2:\n",
        "    tail.next = list2\n",
        "\n",
        "  return dummy.next\n",
        "\n",
        "\n",
        "print(mergeTwoLists([3, 4, 5], [1,2,4]))"
      ],
      "metadata": {
        "colab": {
          "base_uri": "https://localhost:8080/",
          "height": 305
        },
        "id": "JfwqckGtvihO",
        "outputId": "1c50745b-87dc-4d9c-c50c-224b4b78b9cf"
      },
      "execution_count": null,
      "outputs": [
        {
          "output_type": "error",
          "ename": "AttributeError",
          "evalue": "'list' object has no attribute 'val'",
          "traceback": [
            "\u001b[0;31m---------------------------------------------------------------------------\u001b[0m",
            "\u001b[0;31mAttributeError\u001b[0m                            Traceback (most recent call last)",
            "\u001b[0;32m<ipython-input-1-835abe38a222>\u001b[0m in \u001b[0;36m<cell line: 26>\u001b[0;34m()\u001b[0m\n\u001b[1;32m     24\u001b[0m \u001b[0;34m\u001b[0m\u001b[0m\n\u001b[1;32m     25\u001b[0m \u001b[0;34m\u001b[0m\u001b[0m\n\u001b[0;32m---> 26\u001b[0;31m \u001b[0mprint\u001b[0m\u001b[0;34m(\u001b[0m\u001b[0mmergeTwoLists\u001b[0m\u001b[0;34m(\u001b[0m\u001b[0;34m[\u001b[0m\u001b[0;36m3\u001b[0m\u001b[0;34m,\u001b[0m \u001b[0;36m4\u001b[0m\u001b[0;34m,\u001b[0m \u001b[0;36m5\u001b[0m\u001b[0;34m]\u001b[0m\u001b[0;34m,\u001b[0m \u001b[0;34m[\u001b[0m\u001b[0;36m1\u001b[0m\u001b[0;34m,\u001b[0m\u001b[0;36m2\u001b[0m\u001b[0;34m,\u001b[0m\u001b[0;36m4\u001b[0m\u001b[0;34m]\u001b[0m\u001b[0;34m)\u001b[0m\u001b[0;34m)\u001b[0m\u001b[0;34m\u001b[0m\u001b[0;34m\u001b[0m\u001b[0m\n\u001b[0m",
            "\u001b[0;32m<ipython-input-1-835abe38a222>\u001b[0m in \u001b[0;36mmergeTwoLists\u001b[0;34m(list1, list2)\u001b[0m\n\u001b[1;32m     10\u001b[0m \u001b[0;34m\u001b[0m\u001b[0m\n\u001b[1;32m     11\u001b[0m   \u001b[0;32mwhile\u001b[0m \u001b[0mlist1\u001b[0m \u001b[0;32mand\u001b[0m \u001b[0mlist2\u001b[0m\u001b[0;34m:\u001b[0m\u001b[0;34m\u001b[0m\u001b[0;34m\u001b[0m\u001b[0m\n\u001b[0;32m---> 12\u001b[0;31m     \u001b[0;32mif\u001b[0m \u001b[0mlist1\u001b[0m\u001b[0;34m.\u001b[0m\u001b[0mval\u001b[0m \u001b[0;34m<\u001b[0m \u001b[0mlist2\u001b[0m\u001b[0;34m.\u001b[0m\u001b[0mval\u001b[0m\u001b[0;34m:\u001b[0m\u001b[0;34m\u001b[0m\u001b[0;34m\u001b[0m\u001b[0m\n\u001b[0m\u001b[1;32m     13\u001b[0m       \u001b[0mtail\u001b[0m\u001b[0;34m.\u001b[0m\u001b[0mnext\u001b[0m \u001b[0;34m=\u001b[0m \u001b[0mlist1\u001b[0m\u001b[0;34m\u001b[0m\u001b[0;34m\u001b[0m\u001b[0m\n\u001b[1;32m     14\u001b[0m     \u001b[0;32melse\u001b[0m\u001b[0;34m:\u001b[0m\u001b[0;34m\u001b[0m\u001b[0;34m\u001b[0m\u001b[0m\n",
            "\u001b[0;31mAttributeError\u001b[0m: 'list' object has no attribute 'val'"
          ]
        }
      ]
    },
    {
      "cell_type": "markdown",
      "source": [
        "## 26. Remove Duplicates from Sorted Array\n",
        "*Array, Two Pointers*\n",
        "<br>\n",
        "<br>\n",
        "***Custom Judge***\n",
        "\n",
        "```\n",
        "    l, r = 0, len(nums) - 1\n",
        "    seen = []\n",
        "\n",
        "    while l < r:\n",
        "      while l < r and nums[l] not in seen:\n",
        "        seen.append(nums[l])\n",
        "        l += 1\n",
        "      while r > l and nums[r] not in seen:\n",
        "        seen.append(nums[r])\n",
        "        r -=1\n",
        "      l, r = l + 1, r - 1\n",
        "      seen.sort()\n",
        "    \n",
        "    nums = seen\n",
        "\n",
        "    return nums\n",
        "```\n",
        "\n"
      ],
      "metadata": {
        "id": "o50isOr8lkvM"
      }
    },
    {
      "cell_type": "code",
      "source": [
        "def removeDuplicates(nums):\n",
        "  count = 1\n",
        "  for i in range(1, len(nums)):\n",
        "    if nums[i] != nums[i - 1]:\n",
        "      nums[count] = nums[i]\n",
        "      count += 1\n",
        "  return count\n",
        "\n",
        "\n",
        "removeDuplicates([0,0,1,1,1,2,2,3,3,4])"
      ],
      "metadata": {
        "colab": {
          "base_uri": "https://localhost:8080/"
        },
        "id": "2WaB8VLWlloy",
        "outputId": "6b2bbff0-ca85-4bea-bdb7-81cba6873f90"
      },
      "execution_count": null,
      "outputs": [
        {
          "output_type": "execute_result",
          "data": {
            "text/plain": [
              "5"
            ]
          },
          "metadata": {},
          "execution_count": 149
        }
      ]
    },
    {
      "cell_type": "markdown",
      "source": [
        "## 27. Remove Element\n",
        "*Array, Two Pointers*\n",
        "<br>\n",
        "<br>\n",
        "***Custom Judge***"
      ],
      "metadata": {
        "id": "3JRdDW098n2g"
      }
    },
    {
      "cell_type": "code",
      "source": [
        "def removeElement(nums, val):\n",
        "  count = 0\n",
        "  for i in range(len(nums)):\n",
        "    if nums[i] != val:\n",
        "      nums[count] = nums[i]\n",
        "      count += 1\n",
        "  return count\n",
        "\n",
        "removeElement([3,2,2,3], 3)"
      ],
      "metadata": {
        "colab": {
          "base_uri": "https://localhost:8080/"
        },
        "id": "E4Gf1fL18ouw",
        "outputId": "093f8278-8d1f-4738-bb18-e557bf75206b"
      },
      "execution_count": null,
      "outputs": [
        {
          "output_type": "execute_result",
          "data": {
            "text/plain": [
              "2"
            ]
          },
          "metadata": {},
          "execution_count": 176
        }
      ]
    },
    {
      "cell_type": "markdown",
      "source": [
        "## 28. Find the Index of the First Occurrence in a String\n",
        "*Two Pointers, String, String Matching*\n",
        "\n",
        "```\n",
        "  if needle in haystack:\n",
        "      for i in range(len(haystack)):\n",
        "        if haystack[i: i + len(needle)] == needle:\n",
        "          return i\n",
        "  else:\n",
        "    return -1\n",
        "```\n",
        "\n"
      ],
      "metadata": {
        "id": "_oQ76zBlAUA2"
      }
    },
    {
      "cell_type": "code",
      "source": [
        "def strStr(haystack, needle):\n",
        "  slow, fast = 0, len(needle)\n",
        "  while fast <= len(haystack):\n",
        "    if haystack[slow: fast] == needle:\n",
        "      return slow\n",
        "    slow, fast = slow + 1, fast + 1\n",
        "  return -1\n",
        "strStr(\"mississippi\", \"issip\")"
      ],
      "metadata": {
        "colab": {
          "base_uri": "https://localhost:8080/"
        },
        "id": "Sl9NDC_bAUx_",
        "outputId": "cc39bc4b-ad92-440f-c13d-b55985688cd5"
      },
      "execution_count": null,
      "outputs": [
        {
          "output_type": "execute_result",
          "data": {
            "text/plain": [
              "4"
            ]
          },
          "metadata": {},
          "execution_count": 31
        }
      ]
    },
    {
      "cell_type": "markdown",
      "source": [
        "## 35. Search Insert Position"
      ],
      "metadata": {
        "id": "AQSjAUlNGlVM"
      }
    },
    {
      "cell_type": "code",
      "source": [
        "def searchInsert(nums, target):\n",
        "  l, r = 0, len(nums) - 1\n",
        "\n",
        "  while l <= r:\n",
        "    mid = (l + r) // 2\n",
        "    if nums[mid] == target:\n",
        "      return mid\n",
        "    elif nums[mid] < target:\n",
        "      l = mid + 1\n",
        "    else:\n",
        "      r = mid - 1\n",
        "  return l\n",
        "\n",
        "searchInsert([1,3,5,6], 0)"
      ],
      "metadata": {
        "colab": {
          "base_uri": "https://localhost:8080/"
        },
        "id": "hLZef5hoGmVg",
        "outputId": "4428ebf3-d829-4b6b-c2cd-2fc92520bfde"
      },
      "execution_count": null,
      "outputs": [
        {
          "output_type": "execute_result",
          "data": {
            "text/plain": [
              "0"
            ]
          },
          "metadata": {},
          "execution_count": 62
        }
      ]
    },
    {
      "cell_type": "markdown",
      "source": [
        "## 58. Length of Last Word\n",
        "*String*\n",
        "<br>\n",
        "<br>\n",
        "Good Idea but spaces at the start of the word fucks it up:\n",
        "```\n",
        "  last_word = ''\n",
        "  for i in s[::-1]:\n",
        "    if ord(i) != 32:\n",
        "      last_word += i\n",
        "    else:\n",
        "      break\n",
        "  \n",
        "  return len(last_word)\n",
        "```\n",
        "\n"
      ],
      "metadata": {
        "id": "Z9fygl1zy5-n"
      }
    },
    {
      "cell_type": "code",
      "source": [
        "def lengthOfLastWord(s):\n",
        "  splitted = s.split()\n",
        "  return len(splitted[-1])\n",
        "\n",
        "lengthOfLastWord(\"Hello World\")"
      ],
      "metadata": {
        "colab": {
          "base_uri": "https://localhost:8080/"
        },
        "id": "OQplJxL4y8Go",
        "outputId": "4134cea0-0d93-4868-84dc-3e0d9ae002dd"
      },
      "execution_count": null,
      "outputs": [
        {
          "output_type": "execute_result",
          "data": {
            "text/plain": [
              "5"
            ]
          },
          "metadata": {},
          "execution_count": 114
        }
      ]
    },
    {
      "cell_type": "markdown",
      "source": [
        "## 125. Valid Palindrome\n",
        "*Two Pointers, String*\n",
        "\n",
        "```\n",
        "  # LIKE CHEATING SOLUTION\n",
        "  s_cleaned = ''.join(char.lower() for char in s if char.isalnum())\n",
        "  reverse_s = ''\n",
        "  \n",
        "  for i in s_cleaned[::-1]:\n",
        "    reverse_s += i\n",
        "  \n",
        "  if reverse_s == s_cleaned:\n",
        "    return True\n",
        "  else:\n",
        "    return False\n",
        "```\n",
        "\n"
      ],
      "metadata": {
        "id": "QMmD9WDTmVNj"
      }
    },
    {
      "cell_type": "code",
      "source": [
        "# def alphaNumeric(c):\n",
        "#   return (ord('A') <= ord(c) <= ord('Z') or\n",
        "#           ord('a') <= ord(c) <= ord('z') or\n",
        "#           ord('0') <= ord(c) <= ord('9'))\n",
        "\n",
        "def isPalindrome(s):\n",
        "  # TWO POINTERS SOLUTION\n",
        "  l, r = 0, len(s) - 1\n",
        "\n",
        "  while l < r:\n",
        "    while l < r and not s[l].isalnum():\n",
        "      l += 1\n",
        "    while r > l and not s[r].isalnum():\n",
        "      r -= 1\n",
        "    if s[l].lower() != s[r].lower():\n",
        "      return False\n",
        "    l, r = l + 1, r - 1\n",
        "  return True\n",
        "\n",
        "isPalindrome(\"race a car\")"
      ],
      "metadata": {
        "colab": {
          "base_uri": "https://localhost:8080/"
        },
        "id": "j1RynZhAmUwP",
        "outputId": "636bf8b5-40d5-49a5-99ba-b9fa398c8090"
      },
      "execution_count": null,
      "outputs": [
        {
          "output_type": "execute_result",
          "data": {
            "text/plain": [
              "False"
            ]
          },
          "metadata": {},
          "execution_count": 152
        }
      ]
    },
    {
      "cell_type": "markdown",
      "source": [
        "## 167. Two Sum II - Input Array Is Sorted TO BE COMPLETED"
      ],
      "metadata": {
        "id": "PCFfCSbwRlxr"
      }
    },
    {
      "cell_type": "code",
      "source": [
        "def twoSum(numbers, target):\n",
        "  for i in range(len(numbers)):\n",
        "    for j in range(len(numbers)):\n",
        "      if numbers[i] + numbers[j] == target:\n",
        "        return (i, j)\n",
        "\n",
        "print(twoSum([2,3,4], 6))"
      ],
      "metadata": {
        "colab": {
          "base_uri": "https://localhost:8080/"
        },
        "id": "7m7VgWULRm4s",
        "outputId": "25ba347a-bed1-489d-b1f4-8f025567a62f"
      },
      "execution_count": null,
      "outputs": [
        {
          "output_type": "stream",
          "name": "stdout",
          "text": [
            "(0, 2)\n"
          ]
        }
      ]
    },
    {
      "cell_type": "markdown",
      "source": [
        "## 217. Contains Duplicate\n",
        "*Array, Hash Table, Sorting*\n",
        "\n",
        "```\n",
        "  # BRUTE FORCE SOLUTION\n",
        "  for i in nums:\n",
        "    for j in range(i + 1, len(nums)):\n",
        "      if i == nums[j]:\n",
        "        return True\n",
        "  return False\n",
        "```\n",
        "\n"
      ],
      "metadata": {
        "id": "eKdbw3xQOizF"
      }
    },
    {
      "cell_type": "code",
      "source": [
        "def containsDuplicate(nums):\n",
        "  seen = []\n",
        "  for i in nums:\n",
        "    if i in seen:\n",
        "      return True\n",
        "    else:\n",
        "      seen.append(i)\n",
        "  return False\n",
        "\n",
        "print(containsDuplicate([1,2,3,1]))\n",
        "print(containsDuplicate([1,2,3,4]))"
      ],
      "metadata": {
        "colab": {
          "base_uri": "https://localhost:8080/"
        },
        "id": "XT2ksoOJOkDR",
        "outputId": "080e3f96-4106-4e35-a613-2cc8004d087d"
      },
      "execution_count": null,
      "outputs": [
        {
          "output_type": "stream",
          "name": "stdout",
          "text": [
            "True\n",
            "False\n"
          ]
        }
      ]
    },
    {
      "cell_type": "markdown",
      "source": [
        "## 242. Valid Anagram\n",
        "*Hash Table, String, Sorting*"
      ],
      "metadata": {
        "id": "9qABUYTzbgQV"
      }
    },
    {
      "cell_type": "code",
      "source": [
        "def isAnagram(t, s):\n",
        "  char_dicc_s = {}\n",
        "  char_dicc_t = {}\n",
        "  seen_s = []\n",
        "  seen_t = []\n",
        "\n",
        "  for i in s:\n",
        "    if i in seen_s:\n",
        "      char_dicc_s[i] = char_dicc_s[i] + 1\n",
        "    else:\n",
        "      seen_s.append(i)\n",
        "      char_dicc_s[i] = 1\n",
        "\n",
        "  for j in t:\n",
        "    if j in seen_t:\n",
        "      char_dicc_t[j] = char_dicc_t[j] + 1\n",
        "    else:\n",
        "      seen_t.append(j)\n",
        "      char_dicc_t[j] = 1\n",
        "\n",
        "  comp = True if char_dicc_s == char_dicc_t else False\n",
        "\n",
        "  return comp\n",
        "\n",
        "print(isAnagram(\"anagram\", \"nagaram\"))\n",
        "print(isAnagram(\"rat\", \"car\"))"
      ],
      "metadata": {
        "colab": {
          "base_uri": "https://localhost:8080/"
        },
        "id": "7-YzYYDVbI8T",
        "outputId": "3d71620a-f29f-4030-f25a-ba0706a349fb"
      },
      "execution_count": null,
      "outputs": [
        {
          "output_type": "stream",
          "name": "stdout",
          "text": [
            "True\n",
            "False\n"
          ]
        }
      ]
    },
    {
      "cell_type": "markdown",
      "source": [
        "## 704. Binary Search\n",
        "*Array, Binary Search*"
      ],
      "metadata": {
        "id": "hlPenJMgfAAE"
      }
    },
    {
      "cell_type": "code",
      "source": [
        "def search(nums, target):\n",
        "  l, r = 0, len(nums) - 1\n",
        "\n",
        "  while l <= r:\n",
        "    mid = (l + r) // 2\n",
        "\n",
        "    if nums[mid] == target:\n",
        "      return mid\n",
        "\n",
        "    elif nums[mid] > target:\n",
        "      l = mid + 1\n",
        "\n",
        "    else:\n",
        "      r = mid - 1\n",
        "\n",
        "  return -1\n",
        "\n",
        "# search([-1,0,3,5,9,12], 9)\n",
        "search([5], 5)"
      ],
      "metadata": {
        "colab": {
          "base_uri": "https://localhost:8080/"
        },
        "id": "kNRgjjfzfKPI",
        "outputId": "71630acb-f38b-4f31-949a-10fe99b85af1"
      },
      "execution_count": null,
      "outputs": [
        {
          "output_type": "execute_result",
          "data": {
            "text/plain": [
              "0"
            ]
          },
          "metadata": {},
          "execution_count": 25
        }
      ]
    },
    {
      "cell_type": "markdown",
      "source": [
        "# Medium LeetCode Problems\n",
        "\n",
        "\n",
        "---\n",
        "\n"
      ],
      "metadata": {
        "id": "LKFXsKcXcg_T"
      }
    },
    {
      "cell_type": "markdown",
      "source": [
        "## 49. Group Anagrams TO BE COMPLETED"
      ],
      "metadata": {
        "id": "t-THExlzQLrs"
      }
    },
    {
      "cell_type": "code",
      "source": [
        "def groupAnagrams(strs):\n",
        "  if len(strs) == 0 or len(strs) == 1:\n",
        "    return [strs]\n",
        "\n",
        "  char_dicc = {}\n",
        "\n",
        "  for i, n in enumerate(strs):\n",
        "\n",
        "\n",
        "groupAnagrams([\"eat\",\"tea\",\"tan\",\"ate\",\"nat\",\"bat\"])"
      ],
      "metadata": {
        "colab": {
          "base_uri": "https://localhost:8080/"
        },
        "id": "XDTGx-wWQMhV",
        "outputId": "b30edf34-57c8-4f9c-c07f-8ff3b8889bbb"
      },
      "execution_count": null,
      "outputs": [
        {
          "output_type": "stream",
          "name": "stdout",
          "text": [
            "eat\n",
            "tea\n",
            "tan\n",
            "ate\n",
            "nat\n",
            "bat\n"
          ]
        }
      ]
    },
    {
      "cell_type": "markdown",
      "source": [
        "# 74. Search a 2D Matrix\n",
        "*Array, Binary Search, Matrix*"
      ],
      "metadata": {
        "id": "3Nm8IBsDBL7Z"
      }
    },
    {
      "cell_type": "code",
      "source": [
        "def searchMatrix(matrix, target):\n",
        "  arr = []\n",
        "  for i in matrix:\n",
        "    arr.extend(i)\n",
        "\n",
        "  l, r = 0, len(arr) - 1\n",
        "\n",
        "  while l <= r:\n",
        "    mid = (l + r) // 2\n",
        "    if arr[mid] == target:\n",
        "      return True\n",
        "    elif arr[mid] < target:\n",
        "      l = mid + 1\n",
        "    else:\n",
        "      r = mid - 1\n",
        "  return False\n",
        "\n",
        "print(searchMatrix([[1,3,5,7],[10,11,16,20],[23,30,34,60]], 3))\n",
        "print(searchMatrix([[1,3,5,7],[10,11,16,20],[23,30,34,60]], 13))"
      ],
      "metadata": {
        "colab": {
          "base_uri": "https://localhost:8080/"
        },
        "id": "zkIqyztRBUYJ",
        "outputId": "78aeaabc-6740-4221-be9d-c15ae644c5b6"
      },
      "execution_count": null,
      "outputs": [
        {
          "output_type": "stream",
          "name": "stdout",
          "text": [
            "True\n",
            "False\n"
          ]
        }
      ]
    },
    {
      "cell_type": "markdown",
      "source": [
        "# Hard LeetCode Problems\n",
        "\n",
        "\n",
        "---\n",
        "\n"
      ],
      "metadata": {
        "id": "PEiUu14nc0dG"
      }
    },
    {
      "cell_type": "markdown",
      "source": [
        "## 10. Regular Expression Matching"
      ],
      "metadata": {
        "id": "sTLXQow8c-Wa"
      }
    },
    {
      "cell_type": "code",
      "source": [
        "import re\n",
        "def isMatch(s, p):\n",
        "  pattern = f'^{p}$'\n",
        "  if re.match(pattern, s):\n",
        "      return True\n",
        "  else:\n",
        "      return False\n",
        "\n",
        "print(isMatch(\"aa\", \"a\"))\n",
        "print(isMatch(\"aa\", \"a*\"))\n",
        "print(isMatch(\"ab\", \".*\"))"
      ],
      "metadata": {
        "colab": {
          "base_uri": "https://localhost:8080/"
        },
        "id": "mwJJmnhHdECc",
        "outputId": "99aa5661-f496-4692-999d-d4f8bbee7653"
      },
      "execution_count": null,
      "outputs": [
        {
          "output_type": "stream",
          "name": "stdout",
          "text": [
            "False\n",
            "True\n",
            "True\n"
          ]
        }
      ]
    }
  ]
}